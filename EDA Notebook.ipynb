{
 "cells": [
  {
   "cell_type": "code",
   "execution_count": 20,
   "id": "5974ce3a-2704-4258-80f3-dff01159e46e",
   "metadata": {},
   "outputs": [],
   "source": [
    "import pandas as pd\n",
    "import numpy as np\n",
    "cab_data = pd.read_csv(\"C:\\\\Users\\\\Public\\\\Data\\\\Cab_Data.csv\" , sep=\",\")\n",
    "city_data = pd.read_csv(\"C:\\\\Users\\\\Public\\\\Data\\\\City.csv\" , sep=\",\")\n",
    "transactionID_data = pd.read_csv(\"C:\\\\Users\\\\Public\\\\Data\\\\Transaction_ID.csv\" , sep=\",\")\n",
    "customerID_data = pd.read_csv(\"C:\\\\Users\\\\Public\\\\Data\\\\Customer_ID.csv\" , sep=\",\")"
   ]
  },
  {
   "cell_type": "code",
   "execution_count": 19,
   "id": "cb217cf6-17e9-4199-8e49-48897b3ab1c7",
   "metadata": {},
   "outputs": [
    {
     "name": "stdout",
     "output_type": "stream",
     "text": [
      "['Transaction ID' 'Date of Travel' 'Company' 'City' 'KM Travelled'\n",
      " 'Price Charged' 'Cost of Trip']\n",
      "['City' 'Population' 'Users']\n",
      "['Transaction ID' 'Customer ID' 'Payment_Mode']\n",
      "['Customer ID' 'Gender' 'Age' 'Income (USD/Month)']\n"
     ]
    }
   ],
   "source": [
    "#Lets make comments about our data\n",
    "print(cab_data.columns.values)\n",
    "print(city_data.columns.values)\n",
    "print(transactionID_data.columns.values)\n",
    "print(customerID_data.columns.values)"
   ]
  },
  {
   "cell_type": "code",
   "execution_count": null,
   "id": "f33701e0-f289-44a2-9d43-17cfb6ef4696",
   "metadata": {},
   "outputs": [],
   "source": [
    "#Our Cab Data has featues of 'Transaction ID' 'Date of Travel' 'Company' 'City' 'KM Travelled' 'Price Charged' 'Cost of Trip'\n",
    "#Our City Data has featues of 'City' 'Population' 'Users'\n",
    "#Our TransactionID data has features of 'Transaction ID' 'Customer ID' 'Payment_Mode'\n",
    "#Our customerID data has features of 'Customer ID' 'Gender' 'Age' 'Income (USD/Month)'"
   ]
  },
  {
   "cell_type": "code",
   "execution_count": 18,
   "id": "a15e8858-ca75-4cef-9b89-9ab74070f020",
   "metadata": {},
   "outputs": [],
   "source": [
    "#And create a master data\n",
    "x = pd.merge(cab_data,city_data)\n",
    "y = pd.merge(transactionID_data,customerID_data)\n",
    "master_data = pd.merge(x,y)"
   ]
  },
  {
   "cell_type": "code",
   "execution_count": null,
   "id": "16d67ae7-6fca-48ba-be04-1dae8c6c3a77",
   "metadata": {},
   "outputs": [],
   "source": [
    "#Hypothesis 1 : Washington has the largest number of cab users\n",
    "#Hypothesis 2 : Average cab using number in cities is above 50.000\n"
   ]
  },
  {
   "cell_type": "code",
   "execution_count": null,
   "id": "c9519f8d-025d-43f9-8823-a4e8d57143fc",
   "metadata": {},
   "outputs": [],
   "source": [
    "#Hypothesis 1 : Washington has the largest number of cab users\n",
    "master_data.City.max()\n",
    "master_data.City[302,149]\n",
    "#Our hypothesis is wrong. New york Has the larges number of Cab Users\n"
   ]
  },
  {
   "cell_type": "code",
   "execution_count": null,
   "id": "96d4cff1-ebcc-41e7-8c83-222a44a160bc",
   "metadata": {},
   "outputs": [],
   "source": [
    "#Hypothesis 2 : Average cab using number in cities is above 50.000\n",
    "np.mean(master_data.Users)\n",
    "#Our hypothesis is wrong. Average cab using number is less than 50.000"
   ]
  }
 ],
 "metadata": {
  "kernelspec": {
   "display_name": "Python 3 (ipykernel)",
   "language": "python",
   "name": "python3"
  },
  "language_info": {
   "codemirror_mode": {
    "name": "ipython",
    "version": 3
   },
   "file_extension": ".py",
   "mimetype": "text/x-python",
   "name": "python",
   "nbconvert_exporter": "python",
   "pygments_lexer": "ipython3",
   "version": "3.9.7"
  }
 },
 "nbformat": 4,
 "nbformat_minor": 5
}
